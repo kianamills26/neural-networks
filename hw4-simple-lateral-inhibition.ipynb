{
 "cells": [
  {
   "cell_type": "code",
   "execution_count": 2,
   "metadata": {},
   "outputs": [],
   "source": [
    "import numpy as np\n",
    "import matplotlib.pyplot as plt"
   ]
  },
  {
   "cell_type": "markdown",
   "metadata": {},
   "source": [
    "## GRAPH 1 (Max Inhibition = 0.1)"
   ]
  },
  {
   "cell_type": "code",
   "execution_count": 14,
   "metadata": {},
   "outputs": [],
   "source": [
    "dim = 40\n",
    "halfdim = int(dim/2)\n",
    "discreet_time_units = 50\n",
    "upper_lim = 60 # max firing rate\n",
    "lower_lim = 0 # min firing rate\n",
    "length_constant = 2 # length constant of inhibition\n",
    "epsilon = .05 # step size\n",
    "max_inhibition = 0.1 # Maximum value of inhibition"
   ]
  },
  {
   "cell_type": "code",
   "execution_count": 79,
   "metadata": {},
   "outputs": [],
   "source": [
    "def buildDistMatrix(dim):\n",
    "    distMatrix = np.zeros((dim,dim))\n",
    "    for i in range(dim):\n",
    "        for j in range(dim):\n",
    "            dist = abs(j-i)\n",
    "            if dist > halfdim:\n",
    "                dist = dim - dist\n",
    "            distMatrix[i,j] = dist         \n",
    "    return distMatrix"
   ]
  },
  {
   "cell_type": "code",
   "execution_count": 80,
   "metadata": {},
   "outputs": [],
   "source": [
    "initial_state_vector = np.zeros((dim,1))\n",
    "distMatrix = buildDistMatrix(dim)\n",
    "weightMatrix = np.zeros((dim,dim))"
   ]
  },
  {
   "cell_type": "code",
   "execution_count": 81,
   "metadata": {},
   "outputs": [],
   "source": [
    "# Initialize initial_state_vector\n",
    "for i in range(halfdim):\n",
    "    initial_state_vector[i,0] = 10\n",
    "for i in range(halfdim,dim):\n",
    "    initial_state_vector[i,0] = 40\n",
    "\n",
    "state_vector = np.copy(initial_state_vector)\n"
   ]
  },
  {
   "cell_type": "code",
   "execution_count": 82,
   "metadata": {},
   "outputs": [],
   "source": [
    "# Create distance matrix based on dim\n",
    "# Calculate distance and apply length constant, inhibition effect, self-inhibition\n",
    "for i in range(dim):\n",
    "    for j in range(dim):\n",
    "        dist = distMatrix[i,j]\n",
    "        weightMatrix[i,j] = -(max_inhibition*np.exp(-(dist/length_constant)))"
   ]
  },
  {
   "cell_type": "code",
   "execution_count": 83,
   "metadata": {},
   "outputs": [],
   "source": [
    "for t in range(discreet_time_units):\n",
    "    state_vector_copy = state_vector\n",
    "    for i in range(dim):\n",
    "        Sigma = 0\n",
    "        for j in range(dim):\n",
    "            eachsum = weightMatrix[j,i] * state_vector_copy[j,0]\n",
    "            Sigma = Sigma + eachsum\n",
    "        Sigma = Sigma + initial_state_vector[i,0] - state_vector_copy[i,0]\n",
    "        state_vector[i,0] = state_vector[i,0] + epsilon * Sigma\n"
   ]
  },
  {
   "cell_type": "code",
   "execution_count": 87,
   "metadata": {},
   "outputs": [
    {
     "data": {
      "image/png": "[encoded data removed]",
      "text/plain": [
       "<Figure size 432x288 with 1 Axes>"
      ]
     },
     "metadata": {
      "needs_background": "light"
     },
     "output_type": "display_data"
    }
   ],
   "source": [
    "# plot initial state\n",
    "y = initial_state_vector\n",
    "x = range(dim)\n",
    "plt.plot(x,y, 'o',color=\"red\", label=\"initial state\")\n",
    "plt.legend(numpoints=1)\n",
    "plt.ylim(0,50)\n",
    "\n",
    "\n",
    "# Plot final State vector\n",
    "y = state_vector\n",
    "x = range(dim)\n",
    "plt.plot(x,y, '+',color=\"blue\", label=\"final state\")\n",
    "plt.legend(numpoints=1)\n",
    "plt.ylim(-10,50)\n",
    "plt.title(\"Maximum Inhibition 0.5, length constant 2\")\n",
    "plt.show()"
   ]
  },
  {
   "cell_type": "markdown",
   "metadata": {},
   "source": [
    "## GRAPH 2 (Max Inhibition = 0.2)"
   ]
  },
  {
   "cell_type": "code",
   "execution_count": 88,
   "metadata": {},
   "outputs": [
    {
     "data": {
      "image/png": "[encoded data removed]",
      "text/plain": [
       "<Figure size 432x288 with 1 Axes>"
      ]
     },
     "metadata": {
      "needs_background": "light"
     },
     "output_type": "display_data"
    }
   ],
   "source": [
    "# REPEAT ABOVE FOR MAX_INHIBITION = 0.2\n",
    "\n",
    "max_inhibition = 0.2\n",
    "initial_state_vector = np.zeros((dim,1))\n",
    "distMatrix = buildDistMatrix(dim)\n",
    "weightMatrix = np.zeros((dim,dim))\n",
    "\n",
    "# Initialize initial_state_vector\n",
    "for i in range(halfdim):\n",
    "    initial_state_vector[i,0] = 10\n",
    "for i in range(halfdim,dim):\n",
    "    initial_state_vector[i,0] = 40\n",
    "\n",
    "state_vector = np.copy(initial_state_vector)\n",
    "\n",
    "# Create distance matrix based on dim\n",
    "# Calculate distance and apply length constant, inhibition effect, self-inhibition\n",
    "for i in range(dim):\n",
    "    for j in range(dim):\n",
    "        dist = distMatrix[i,j]\n",
    "        weightMatrix[i,j] = -(max_inhibition*np.exp(-(dist/length_constant)))\n",
    "        \n",
    "for t in range(discreet_time_units):\n",
    "    state_vector_copy = state_vector\n",
    "    for i in range(dim):\n",
    "        Sigma = 0\n",
    "        for j in range(dim):\n",
    "            eachsum = weightMatrix[j,i] * state_vector_copy[j,0]\n",
    "            Sigma = Sigma + eachsum\n",
    "        Sigma = Sigma + initial_state_vector[i,0] - state_vector_copy[i,0]\n",
    "        state_vector[i,0] = state_vector[i,0] + epsilon * Sigma\n",
    "        \n",
    "# plot initial state\n",
    "y = initial_state_vector\n",
    "x = range(dim)\n",
    "plt.plot(x,y, 'o',color=\"red\", label=\"initial state\")\n",
    "plt.legend(numpoints=1)\n",
    "plt.ylim(0,50)\n",
    "\n",
    "\n",
    "# Plot final State vector\n",
    "y = state_vector\n",
    "x = range(dim)\n",
    "plt.plot(x,y, '+',color=\"blue\", label=\"final state\")\n",
    "plt.legend(numpoints=1)\n",
    "plt.ylim(-10,50)\n",
    "plt.title(\"Maximum Inhibition 0.2, length constant 2\")\n",
    "plt.show()"
   ]
  },
  {
   "cell_type": "markdown",
   "metadata": {},
   "source": [
    "## GRAPH 3 (Max Inhibition = 1.0)"
   ]
  },
  {
   "cell_type": "code",
   "execution_count": 89,
   "metadata": {},
   "outputs": [
    {
     "data": {
      "image/png": "[encoded data removed]",
      "text/plain": [
       "<Figure size 432x288 with 1 Axes>"
      ]
     },
     "metadata": {
      "needs_background": "light"
     },
     "output_type": "display_data"
    }
   ],
   "source": [
    "# REPEAT ABOVE FOR MAX_INHIBITION = 1.0\n",
    "\n",
    "max_inhibition = 1.0\n",
    "initial_state_vector = np.zeros((dim,1))\n",
    "distMatrix = buildDistMatrix(dim)\n",
    "weightMatrix = np.zeros((dim,dim))\n",
    "\n",
    "# Initialize initial_state_vector\n",
    "for i in range(halfdim):\n",
    "    initial_state_vector[i,0] = 10\n",
    "for i in range(halfdim,dim):\n",
    "    initial_state_vector[i,0] = 40\n",
    "\n",
    "state_vector = np.copy(initial_state_vector)\n",
    "\n",
    "# Create distance matrix based on dim\n",
    "# Calculate distance and apply length constant, inhibition effect, self-inhibition\n",
    "for i in range(dim):\n",
    "    for j in range(dim):\n",
    "        dist = distMatrix[i,j]\n",
    "        weightMatrix[i,j] = -(max_inhibition*np.exp(-(dist/length_constant)))\n",
    "        \n",
    "for t in range(discreet_time_units):\n",
    "    state_vector_copy = state_vector\n",
    "    for i in range(dim):\n",
    "        Sigma = 0\n",
    "        for j in range(dim):\n",
    "            eachsum = weightMatrix[j,i] * state_vector_copy[j,0]\n",
    "            Sigma = Sigma + eachsum\n",
    "        Sigma = Sigma + initial_state_vector[i,0] - state_vector_copy[i,0]\n",
    "        state_vector[i,0] = state_vector[i,0] + epsilon * Sigma\n",
    "        \n",
    "# plot initial state\n",
    "y = initial_state_vector\n",
    "x = range(dim)\n",
    "plt.plot(x,y, 'o',color=\"red\", label=\"initial state\")\n",
    "plt.legend(numpoints=1)\n",
    "plt.ylim(0,50)\n",
    "\n",
    "\n",
    "# Plot final State vector\n",
    "y = state_vector\n",
    "x = range(dim)\n",
    "plt.plot(x,y, '+',color=\"blue\", label=\"final state\")\n",
    "plt.legend(numpoints=1)\n",
    "plt.ylim(-10,50)\n",
    "plt.title(\"Maximum Inhibition 1.0, length constant 2\")\n",
    "plt.show()"
   ]
  },
  {
   "cell_type": "markdown",
   "metadata": {},
   "source": [
    "## GRAPH 4 (Max Inhibition = 2.0)"
   ]
  },
  {
   "cell_type": "code",
   "execution_count": 90,
   "metadata": {},
   "outputs": [
    {
     "data": {
      "image/png": "[encoded data removed]",
      "text/plain": [
       "<Figure size 432x288 with 1 Axes>"
      ]
     },
     "metadata": {
      "needs_background": "light"
     },
     "output_type": "display_data"
    }
   ],
   "source": [
    "# REPEAT ABOVE FOR MAX_INHIBITION = 2.0\n",
    "\n",
    "max_inhibition = 2.0\n",
    "initial_state_vector = np.zeros((dim,1))\n",
    "distMatrix = buildDistMatrix(dim)\n",
    "weightMatrix = np.zeros((dim,dim))\n",
    "\n",
    "# Initialize initial_state_vector\n",
    "for i in range(halfdim):\n",
    "    initial_state_vector[i,0] = 10\n",
    "for i in range(halfdim,dim):\n",
    "    initial_state_vector[i,0] = 40\n",
    "\n",
    "state_vector = np.copy(initial_state_vector)\n",
    "\n",
    "# Create distance matrix based on dim\n",
    "# Calculate distance and apply length constant, inhibition effect, self-inhibition\n",
    "for i in range(dim):\n",
    "    for j in range(dim):\n",
    "        dist = distMatrix[i,j]\n",
    "        weightMatrix[i,j] = -(max_inhibition*np.exp(-(dist/length_constant)))\n",
    "        \n",
    "for t in range(discreet_time_units):\n",
    "    state_vector_copy = state_vector\n",
    "    for i in range(dim):\n",
    "        Sigma = 0\n",
    "        for j in range(dim):\n",
    "            eachsum = weightMatrix[j,i] * state_vector_copy[j,0]\n",
    "            Sigma = Sigma + eachsum\n",
    "        Sigma = Sigma + initial_state_vector[i,0] - state_vector_copy[i,0]\n",
    "        state_vector[i,0] = state_vector[i,0] + epsilon * Sigma\n",
    "        \n",
    "# plot initial state\n",
    "y = initial_state_vector\n",
    "x = range(dim)\n",
    "plt.plot(x,y, 'o',color=\"red\", label=\"initial state\")\n",
    "plt.legend(numpoints=1)\n",
    "plt.ylim(0,50)\n",
    "\n",
    "\n",
    "# Plot final State vector\n",
    "y = state_vector\n",
    "x = range(dim)\n",
    "plt.plot(x,y, '+',color=\"blue\", label=\"final state\")\n",
    "plt.legend(numpoints=1)\n",
    "plt.ylim(-10,50)\n",
    "plt.title(\"Maximum Inhibition 2.0, length constant 2\")\n",
    "plt.show()"
   ]
  }
 ],
 "metadata": {
  "kernelspec": {
   "display_name": "Python 3",
   "language": "python",
   "name": "python3"
  },
  "language_info": {
   "codemirror_mode": {
    "name": "ipython",
    "version": 3
   },
   "file_extension": ".py",
   "mimetype": "text/x-python",
   "name": "python",
   "nbconvert_exporter": "python",
   "pygments_lexer": "ipython3",
   "version": "3.7.4"
  }
 },
 "nbformat": 4,
 "nbformat_minor": 2
}
