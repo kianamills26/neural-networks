{
 "cells": [
  {
   "cell_type": "code",
   "execution_count": 1,
   "metadata": {},
   "outputs": [],
   "source": [
    "import numpy as np\n",
    "import matplotlib.pyplot as plt"
   ]
  },
  {
   "cell_type": "code",
   "execution_count": 2,
   "metadata": {},
   "outputs": [],
   "source": [
    "#######################\n",
    "## HELPER FUNCTIONS  ##\n",
    "#######################\n",
    "def outer_product(f, g, n):\n",
    "    # initialize a matrix of given dimensions\n",
    "    A = np.zeros((n,n))\n",
    "    for i in range(n):\n",
    "        for j in range(n):\n",
    "            A[i][j] = g[j] * f[i]\n",
    "    return A\n",
    "\n",
    "# Generates n random vector pairs with dimensionality dim\n",
    "def generate_vector_pairs(n, dim):\n",
    "    F = []\n",
    "    G = []\n",
    "    for _ in range(n):\n",
    "        f = np.random.rand(dim,1)\n",
    "        g = np.random.rand(dim,1)\n",
    "        # centered\n",
    "        f = f - f.mean()\n",
    "        g = g - g.mean()\n",
    "        # scaled\n",
    "        f = f / np.linalg.norm(f)\n",
    "        g = g / np.linalg.norm(g)\n",
    "        if n == 1:\n",
    "            return f,g\n",
    "        else:\n",
    "            F.append(f)\n",
    "            G.append(g)\n",
    "    return F,G\n",
    "\n",
    "def scalar_times_vector(scalar, a, dim):\n",
    "    B = np.zeros(dim)\n",
    "    for i in range(dim):\n",
    "        B[i] = scalar * a[i]\n",
    "    return B\n",
    "\n",
    "def Widrow_Hoff(g, g_prime, f, dim):\n",
    "    length_f = np.linalg.norm(f)\n",
    "    k = 1/ (length_f * length_f)\n",
    "    k = k - 0.15\n",
    "    difference_vector = np.subtract(g, g_prime)\n",
    "    weighted_vector = scalar_times_vector(k, difference_vector,dim)\n",
    "    deltaA = outer_product(f,weighted_vector, dim)\n",
    "    return deltaA, weighted_vector\n",
    "    "
   ]
  },
  {
   "cell_type": "code",
   "execution_count": 3,
   "metadata": {},
   "outputs": [
    {
     "name": "stdout",
     "output_type": "stream",
     "text": [
      "Mean and St. Dev of Dot Products:  0.001858 0.063795\n"
     ]
    }
   ],
   "source": [
    "dim = 100\n",
    "n = 25\n",
    "\n",
    "# F and G are column vectors\n",
    "F_set, G_set = generate_vector_pairs(n, dim)\n",
    "A_i = [ outer_product(F_set[i], G_set[i], dim) for i in range(n) ]\n",
    "# Form the overall connectivity matrix A\n",
    "A = np.zeros((dim,dim))\n",
    "for i in range(n):\n",
    "    A = np.add(A, A_i[i])\n",
    "\n",
    "# Compute the output for each stored vector fi\n",
    "G_prime = [ A.dot(F_set[i]) for i in range(n) ]\n",
    "#g_lengths = [ np.linalg.norm(g_prime[i])  for i in range(n) ]\n",
    "dot_products = [ np.sum(G_prime[i] * G_set[i]) for i in range(n) ]\n",
    "print(\"Mean and St. Dev of Dot Products: \", round(np.mean(dot_products),6), round(np.std(dot_products),6))\n",
    "#print(\"St. Dev of Dot Products: \", np.std(dot_products))\n",
    "#print(\"Mean of lengths of g': \", round(np.mean(g_lengths),6))\n"
   ]
  },
  {
   "cell_type": "code",
   "execution_count": 9,
   "metadata": {},
   "outputs": [
    {
     "data": {
      "text/plain": [
       "array([[ 0.18564845,  0.79133605,  0.55525124, ...,  0.77740411,\n",
       "        -0.30897648,  0.13707656],\n",
       "       [ 0.0635819 ,  0.55843514,  0.47955798, ...,  0.38011457,\n",
       "        -0.13348741, -0.02150481],\n",
       "       [ 0.1288041 ,  0.83006024,  0.55474021, ...,  0.75583448,\n",
       "        -0.33552374,  0.133966  ],\n",
       "       ...,\n",
       "       [ 0.2351331 ,  0.83114439,  0.61272017, ...,  0.64886453,\n",
       "        -0.23532973,  0.08696059],\n",
       "       [-0.02240986,  0.14559432,  0.13140292, ...,  0.11672907,\n",
       "        -0.02900233, -0.01312252],\n",
       "       [-0.05125056, -0.94019549, -0.71788565, ..., -0.95861517,\n",
       "         0.42319836, -0.10140322]])"
      ]
     },
     "execution_count": 9,
     "metadata": {},
     "output_type": "execute_result"
    }
   ],
   "source": [
    "# Pick an associated pair at random (rand int between 0 and 25)\n",
    "# A is the original matrix\n",
    "# A_prime is the matrix after learning\n",
    "# n is the number of iterations\n",
    "\n",
    "mse = 10\n",
    "count = 0\n",
    "while mse > 0.008:\n",
    "    x = np.random.randint(low=0, high=n)\n",
    "    f = F_set[i]\n",
    "    g = G_set[i]\n",
    "    g_prime = G_prime[x]\n",
    "    deltaA, error = Widrow_Hoff(g, g_prime, f, dim)\n",
    "    mse = np.sum( error * error ) / dim\n",
    "    A_prime = np.add(A, deltaA)\n",
    "    A = A_prime\n",
    "    count += 1\n",
    "\n",
    "A_prime"
   ]
  },
  {
   "cell_type": "code",
   "execution_count": null,
   "metadata": {},
   "outputs": [],
   "source": [
    "# See what happens when you use different k values"
   ]
  },
  {
   "cell_type": "code",
   "execution_count": null,
   "metadata": {},
   "outputs": [],
   "source": [
    "# How long does it take to converge ??\n",
    "# take the sum squared of the errors : error vector squared, then sum it\n",
    "# set a tolerance\n",
    "# if hit tolerance a certain number of times, done"
   ]
  },
  {
   "cell_type": "code",
   "execution_count": null,
   "metadata": {},
   "outputs": [],
   "source": [
    "# How many associations can be stored before the system starts to break down"
   ]
  }
 ],
 "metadata": {
  "kernelspec": {
   "display_name": "Python 3",
   "language": "python",
   "name": "python3"
  },
  "language_info": {
   "codemirror_mode": {
    "name": "ipython",
    "version": 3
   },
   "file_extension": ".py",
   "mimetype": "text/x-python",
   "name": "python",
   "nbconvert_exporter": "python",
   "pygments_lexer": "ipython3",
   "version": "3.7.4"
  }
 },
 "nbformat": 4,
 "nbformat_minor": 2
}
