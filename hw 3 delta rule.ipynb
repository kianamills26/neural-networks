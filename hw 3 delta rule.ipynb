{
 "cells": [
  {
   "cell_type": "code",
   "execution_count": 27,
   "metadata": {},
   "outputs": [],
   "source": [
    "import numpy as np\n",
    "import matplotlib.pyplot as plt\n",
    "import statistics as stat"
   ]
  },
  {
   "cell_type": "code",
   "execution_count": 74,
   "metadata": {},
   "outputs": [],
   "source": [
    "#######################\n",
    "## HELPER FUNCTIONS  ##\n",
    "#######################\n",
    "\n",
    "# Finds the outer product of g and f transpose\n",
    "def outer_product(f, g, n):\n",
    "    # initialize a matrix of given dimensions\n",
    "    A = np.zeros((n,n))\n",
    "    for i in range(n):\n",
    "        for j in range(n):\n",
    "            A[i][j] = g[j] * f[i]\n",
    "    return A\n",
    "\n",
    "# Generates n random vector pairs with dimensionality dim\n",
    "def generate_vector_pairs(n, dim):\n",
    "    F = []\n",
    "    G = []\n",
    "    for _ in range(n):\n",
    "        f = np.random.rand(dim,1)\n",
    "        g = np.random.rand(dim,1)\n",
    "        # centered\n",
    "        f = f - f.mean()\n",
    "        g = g - g.mean()\n",
    "        # scaled\n",
    "        f = f / np.linalg.norm(f)\n",
    "        g = g / np.linalg.norm(g)\n",
    "        if n == 1:\n",
    "            return f,g\n",
    "        else:\n",
    "            F.append(f)\n",
    "            G.append(g)\n",
    "    return F,G\n",
    "\n",
    "# Multiplies a scalar and vectors\n",
    "def scalar_times_vector(scalar, a, dim):\n",
    "    B = np.zeros(dim)\n",
    "    for i in range(dim):\n",
    "        B[i] = scalar * a[i]\n",
    "    return B\n",
    "\n",
    "# Widrow Hoff learning rule \n",
    "def Widrow_Hoff(k, g, g_prime, f, dim):\n",
    "    length_f = np.linalg.norm(f)\n",
    "    difference_vector = np.subtract(g, g_prime)\n",
    "    #weighted_vector = scalar_times_vector(k, difference_vector,dim)\n",
    "    weighted_vector = k * difference_vector\n",
    "    deltaA = outer_product(f,weighted_vector, dim)\n",
    "    return deltaA, weighted_vector\n",
    "    "
   ]
  },
  {
   "cell_type": "code",
   "execution_count": 71,
   "metadata": {},
   "outputs": [],
   "source": [
    "dim = 100\n",
    "n = 25 # iterations"
   ]
  },
  {
   "cell_type": "code",
   "execution_count": 75,
   "metadata": {},
   "outputs": [
    {
     "name": "stdout",
     "output_type": "stream",
     "text": [
      "Current Error: 0.9451249638935263\n",
      "Current Error: 0.8622687572137911\n",
      "Current Error: 0.9432664268773389\n",
      "Current Error: 0.7542344668447327\n",
      "Current Error: 0.6639417525562152\n",
      "Current Error: 0.90669242606459\n",
      "Current Error: 0.5879569740832535\n",
      "Current Error: 0.5488894282874608\n",
      "Current Error: 0.4506786472518374\n",
      "Current Error: 0.4048817637690125\n",
      "Current Error: 0.3469149791849155\n",
      "Current Error: 0.31750465589707705\n",
      "Current Error: 0.27460726253881246\n",
      "Current Error: 0.19100719509098218\n",
      "Current Error: 0.14302374428034115\n",
      "Current Error: 0.07088717873764894\n",
      "Current Error: 2.67947727142932e-16\n",
      "Error:  1.0\n",
      "Error Threshold:  1e-06\n",
      "Number of trials:  25\n"
     ]
    }
   ],
   "source": [
    "# F and G are column vectors\n",
    "F_set, G_set = generate_vector_pairs(n, dim)\n",
    "A_i = [ outer_product(F_set[i], G_set[i], dim) for i in range(n) ]\n",
    "# Form the overall connectivity matrix A\n",
    "A = np.zeros((dim,dim))\n",
    "for i in range(n):\n",
    "    A = np.add(A, A_i[i])\n",
    "\n",
    "# Compute the output for each stored vector fi\n",
    "G_prime = [ A.dot(F_set[i]) for i in range(n) ]\n",
    "dot_products = [ np.sum(G_prime[i] * G_set[i]) for i in range(n) ]\n",
    "#print(\"Mean and St. Dev of Dot Products: \", round(np.mean(dot_products),6), round(np.std(dot_products),6))\n",
    "\n",
    "learned = np.zeros(n)\n",
    "count = 1\n",
    "converged = False\n",
    "oscillate_input = False\n",
    "errorThreshold = 0.000001;\n",
    "Errors = []\n",
    "k = 0.85\n",
    "\n",
    "while converged == False:\n",
    "    mse = 0\n",
    "    # Pick a random pair of f and g vectors\n",
    "    x = np.random.randint(low=0, high=n)\n",
    "    if x > n:\n",
    "        x = 1\n",
    "    f = F_set[x]\n",
    "    g = G_set[x]\n",
    "    \n",
    "    g_prime = A.dot(f)\n",
    "    #g_prime = G_prime[x]\n",
    "    \n",
    "    learned[x] = 1\n",
    "\n",
    "    #k = 1/(f*f)\n",
    "    k = k - .05\n",
    "    deltaA, error = Widrow_Hoff(k, g, g_prime, f, dim)\n",
    "    \n",
    "    error_length = np.linalg.norm(error)\n",
    "    Errors.append(error_length)\n",
    "    #print(avg_error)\n",
    "    \n",
    "    #print(\"Current Error:\", (np.linalg.norm(error) - new_error)/np.linalg.norm(error))\n",
    "    print(\"Current Error:\", error_length)\n",
    "    \n",
    "    #if (abs(np.linalg.norm(error) - new_error) / np.linalg.norm(error) < errorThreshold) and (sum(learned) == n):\n",
    "    if (abs(error_length) < errorThreshold) :\n",
    "        print(\"Error: \", abs(np.linalg.norm(error) - new_error) / np.linalg.norm(error))\n",
    "        print(\"Error Threshold: \", errorThreshold)\n",
    "        print(\"Number of trials: \", n)\n",
    "        converged = True\n",
    "        \n",
    "    \n",
    "    A = np.add(A, deltaA)\n",
    "    count = count + 1;\n",
    "    x = x + 1;\n",
    "    \n"
   ]
  },
  {
   "cell_type": "code",
   "execution_count": 76,
   "metadata": {},
   "outputs": [
    {
     "data": {
      "image/png": "[encoded data removed]",
      "text/plain": [
       "<Figure size 432x288 with 1 Axes>"
      ]
     },
     "metadata": {
      "needs_background": "light"
     },
     "output_type": "display_data"
    }
   ],
   "source": [
    "plt.plot(Errors,'-')\n",
    "plt.ylim(-0.5,1)\n",
    "plt.axhline(y=0,color=\"red\")\n",
    "plt.title(\"Error Oscillation, k= 0.9\")\n",
    "plt.show()"
   ]
  },
  {
   "cell_type": "code",
   "execution_count": null,
   "metadata": {},
   "outputs": [],
   "source": [
    "# See what happens when you use different k values"
   ]
  },
  {
   "cell_type": "code",
   "execution_count": null,
   "metadata": {},
   "outputs": [],
   "source": [
    "# How long does it take to converge ??\n",
    "# take the sum squared of the errors : error vector squared, then sum it\n",
    "# set a tolerance\n",
    "# if hit tolerance a certain number of times, done"
   ]
  },
  {
   "cell_type": "code",
   "execution_count": null,
   "metadata": {},
   "outputs": [],
   "source": [
    "# How many associations can be stored before the system starts to break down"
   ]
  }
 ],
 "metadata": {
  "kernelspec": {
   "display_name": "Python 3",
   "language": "python",
   "name": "python3"
  },
  "language_info": {
   "codemirror_mode": {
    "name": "ipython",
    "version": 3
   },
   "file_extension": ".py",
   "mimetype": "text/x-python",
   "name": "python",
   "nbconvert_exporter": "python",
   "pygments_lexer": "ipython3",
   "version": "3.7.5"
  }
 },
 "nbformat": 4,
 "nbformat_minor": 2
}
