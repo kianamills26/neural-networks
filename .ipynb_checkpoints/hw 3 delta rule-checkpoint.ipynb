{
 "cells": [
  {
   "cell_type": "code",
   "execution_count": 1,
   "metadata": {},
   "outputs": [],
   "source": [
    "import numpy as np\n",
    "import matplotlib.pyplot as plt"
   ]
  },
  {
   "cell_type": "code",
   "execution_count": 2,
   "metadata": {},
   "outputs": [],
   "source": [
    "#######################\n",
    "## HELPER FUNCTIONS  ##\n",
    "#######################\n",
    "\n",
    "# Finds the outer product of g and f transpose\n",
    "def outer_product(f, g, n):\n",
    "    # initialize a matrix of given dimensions\n",
    "    A = np.zeros((n,n))\n",
    "    for i in range(n):\n",
    "        for j in range(n):\n",
    "            A[i][j] = g[j] * f[i]\n",
    "    return A\n",
    "\n",
    "# Generates n random vector pairs with dimensionality dim\n",
    "def generate_vector_pairs(n, dim):\n",
    "    F = []\n",
    "    G = []\n",
    "    for _ in range(n):\n",
    "        f = np.random.rand(dim,1)\n",
    "        g = np.random.rand(dim,1)\n",
    "        # centered\n",
    "        f = f - f.mean()\n",
    "        g = g - g.mean()\n",
    "        # scaled\n",
    "        f = f / np.linalg.norm(f)\n",
    "        g = g / np.linalg.norm(g)\n",
    "        if n == 1:\n",
    "            return f,g\n",
    "        else:\n",
    "            F.append(f)\n",
    "            G.append(g)\n",
    "    return F,G\n",
    "\n",
    "# Multiplies a scalar and vectors\n",
    "def scalar_times_vector(scalar, a, dim):\n",
    "    B = np.zeros(dim)\n",
    "    for i in range(dim):\n",
    "        B[i] = scalar * a[i]\n",
    "    return B\n",
    "\n",
    "# Widrow Hoff learning rule \n",
    "def Widrow_Hoff(g, g_prime, f, dim):\n",
    "    length_f = np.linalg.norm(f)\n",
    "    k = 1/ (length_f * length_f)\n",
    "    k = k - 0.15\n",
    "    difference_vector = np.subtract(g, g_prime)\n",
    "    weighted_vector = scalar_times_vector(k, difference_vector,dim)\n",
    "    deltaA = outer_product(f,weighted_vector, dim)\n",
    "    return deltaA, weighted_vector\n",
    "    "
   ]
  },
  {
   "cell_type": "code",
   "execution_count": 3,
   "metadata": {},
   "outputs": [
    {
     "name": "stdout",
     "output_type": "stream",
     "text": [
      "Mean and St. Dev of Dot Products:  -0.028129 0.060824\n"
     ]
    }
   ],
   "source": [
    "dim = 100\n",
    "n = 25 # iterations\n",
    "\n",
    "# F and G are column vectors\n",
    "F_set, G_set = generate_vector_pairs(n, dim)\n",
    "A_i = [ outer_product(F_set[i], G_set[i], dim) for i in range(n) ]\n",
    "# Form the overall connectivity matrix A\n",
    "A = np.zeros((dim,dim))\n",
    "for i in range(n):\n",
    "    A = np.add(A, A_i[i])\n",
    "\n",
    "# Compute the output for each stored vector fi\n",
    "G_prime = [ A.dot(F_set[i]) for i in range(n) ]\n",
    "dot_products = [ np.sum(G_prime[i] * G_set[i]) for i in range(n) ]\n",
    "print(\"Mean and St. Dev of Dot Products: \", round(np.mean(dot_products),6), round(np.std(dot_products),6))\n"
   ]
  },
  {
   "cell_type": "code",
   "execution_count": 39,
   "metadata": {},
   "outputs": [
    {
     "name": "stdout",
     "output_type": "stream",
     "text": [
      "Error:  0.0\n",
      "Error Threshold:  1e-05\n",
      "Number of trials:  25\n"
     ]
    }
   ],
   "source": [
    "learned = np.zeros(n)\n",
    "count = 1\n",
    "converged = False\n",
    "oscillate_input = False\n",
    "errorThreshold = 0.00001;\n",
    "Errors = []\n",
    "\n",
    "while converged == False:\n",
    "    mse = 0\n",
    "    # Pick a random pair of f and g vectors\n",
    "    x = np.random.randint(low=0, high=n)\n",
    "    if x > n:\n",
    "        x = 1\n",
    "    f = F_set[x]\n",
    "    g = G_set[x]\n",
    "    g_prime = G_prime[x]\n",
    "    \n",
    "    learned[x] = 1\n",
    "    if count == 1:\n",
    "        A = A[x]\n",
    "        new_error = 0\n",
    "    else:\n",
    "        A = A + A[x]\n",
    "    \n",
    "    k = 1/(f*f)\n",
    "    error = g - g_prime\n",
    "    \n",
    "    Errors.append((np.linalg.norm(error) - new_error) / np.linalg.norm(error) )\n",
    "    \n",
    "    if oscillate_input:\n",
    "        print(\"Error: \", error)\n",
    "    #if (abs(np.linalg.norm(error) - new_error) / np.linalg.norm(error) < errorThreshold) and (sum(learned) == n):\n",
    "    if (abs(np.linalg.norm(error) - new_error) / np.linalg.norm(error) < errorThreshold) and (sum(learned) == n):\n",
    "        print(\"Error: \", abs(np.linalg.norm(error) - new_error) / np.linalg.norm(error))\n",
    "        print(\"Error Threshold: \", errorThreshold)\n",
    "        print(\"Number of trials: \", n)\n",
    "        converged = True\n",
    "        \n",
    "\n",
    "    new_error = np.linalg.norm(error)\n",
    "    deltaA, error = Widrow_Hoff(g, g_prime, f, dim)\n",
    "    A = np.add(A, deltaA)\n",
    "    count = count + 1;\n",
    "    x = x + 1;\n",
    "    \n"
   ]
  },
  {
   "cell_type": "code",
   "execution_count": 41,
   "metadata": {},
   "outputs": [
    {
     "data": {
      "image/png": "[encoded data removed]",
      "text/plain": [
       "<Figure size 432x288 with 1 Axes>"
      ]
     },
     "metadata": {
      "needs_background": "light"
     },
     "output_type": "display_data"
    }
   ],
   "source": [
    "plt.plot(Errors,'-')\n",
    "plt.ylim(-0.3,0.3)\n",
    "plt.axhline(y=0,color=\"red\")\n",
    "plt.title(\"Error Oscillation\")\n",
    "plt.show()"
   ]
  },
  {
   "cell_type": "code",
   "execution_count": null,
   "metadata": {},
   "outputs": [],
   "source": [
    "# See what happens when you use different k values"
   ]
  },
  {
   "cell_type": "code",
   "execution_count": null,
   "metadata": {},
   "outputs": [],
   "source": [
    "# How long does it take to converge ??\n",
    "# take the sum squared of the errors : error vector squared, then sum it\n",
    "# set a tolerance\n",
    "# if hit tolerance a certain number of times, done"
   ]
  },
  {
   "cell_type": "code",
   "execution_count": null,
   "metadata": {},
   "outputs": [],
   "source": [
    "# How many associations can be stored before the system starts to break down"
   ]
  }
 ],
 "metadata": {
  "kernelspec": {
   "display_name": "Python 3",
   "language": "python",
   "name": "python3"
  },
  "language_info": {
   "codemirror_mode": {
    "name": "ipython",
    "version": 3
   },
   "file_extension": ".py",
   "mimetype": "text/x-python",
   "name": "python",
   "nbconvert_exporter": "python",
   "pygments_lexer": "ipython3",
   "version": "3.7.4"
  }
 },
 "nbformat": 4,
 "nbformat_minor": 2
}
