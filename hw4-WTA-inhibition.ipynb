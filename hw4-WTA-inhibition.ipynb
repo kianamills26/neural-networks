{
 "cells": [
  {
   "cell_type": "code",
   "execution_count": 1,
   "metadata": {},
   "outputs": [],
   "source": [
    "import numpy as np\n",
    "import matplotlib.pyplot as plt"
   ]
  },
  {
   "cell_type": "code",
   "execution_count": 101,
   "metadata": {},
   "outputs": [],
   "source": [
    "dim = 30\n",
    "halfdim = int(dim/2)\n",
    "discrete_time_units = 40\n",
    "upper_limit = 60\n",
    "lower_limit = 0\n",
    "length_constant = 10\n",
    "epsilon = 0.10\n",
    "max_inhibition = 1"
   ]
  },
  {
   "cell_type": "markdown",
   "metadata": {},
   "source": [
    "## Winner Take All Network"
   ]
  },
  {
   "cell_type": "code",
   "execution_count": 102,
   "metadata": {},
   "outputs": [],
   "source": [
    "def buildDistMatrix(dim):\n",
    "    distMatrix = np.zeros((dim,dim))\n",
    "    for i in range(dim):\n",
    "        for j in range(dim):\n",
    "            dist = abs(j-i)\n",
    "            if dist > halfdim:\n",
    "                dist = dim - dist\n",
    "            distMatrix[i,j] = dist         \n",
    "    return distMatrix"
   ]
  },
  {
   "cell_type": "code",
   "execution_count": 103,
   "metadata": {},
   "outputs": [],
   "source": [
    "def inhibit(vec, dim, lower, upper):\n",
    "    for i in range(dim):\n",
    "        if vec[i] < lower:\n",
    "            vec[i] = lower\n",
    "        elif vec[i] > upper:\n",
    "            vec[i] = upper\n",
    "    return vec"
   ]
  },
  {
   "cell_type": "code",
   "execution_count": 104,
   "metadata": {},
   "outputs": [],
   "source": [
    "initial_state_vector = np.zeros((dim,1))\n",
    "distMatrix = buildDistMatrix(dim)\n",
    "weightMatrix = np.zeros((dim,dim))"
   ]
  },
  {
   "cell_type": "code",
   "execution_count": 127,
   "metadata": {},
   "outputs": [],
   "source": [
    "# Initialize initial_state_vector\n",
    "max_ = 40\n",
    "min_ = 10\n",
    "stepsaway = 3\n",
    "increasing = 10\n",
    "\n",
    "for i in range(dim):\n",
    "    for i in range(halfdim-stepsaway-1):\n",
    "        initial_state_vector[i,0] = min_\n",
    "    for i in range(halfdim-(stepsaway),halfdim):\n",
    "        increasing = increasing + ((max_ - min_)/ stepsaway)\n",
    "        initial_state_vector[i,0] = increasing\n",
    "    initial_state_vector[halfdim,0] = max_\n",
    "    increasing = max_\n",
    "    for i in range(halfdim+1, halfdim + stepsaway):\n",
    "        increasing = increasing - ((max_ - min_)/ stepsaway)\n",
    "        initial_state_vector[i,0] = increasing\n",
    "    for i in range(halfdim+(stepsaway),dim):\n",
    "        initial_state_vector[i,0] = min_\n",
    "\n",
    "state_vector = np.copy(initial_state_vector)"
   ]
  },
  {
   "cell_type": "code",
   "execution_count": 125,
   "metadata": {},
   "outputs": [],
   "source": [
    "# Convert distMatrix into weightMatrix\n",
    "for i in range(dim):\n",
    "    for j in range(dim):\n",
    "        dist = distMatrix[i,j]\n",
    "        weightMatrix[i,j] = -(max_inhibition*np.exp(-(dist/length_constant)))\n",
    "        if i == j:\n",
    "            weightMatrix[i,j] = 0\n",
    "        \n",
    "        \n",
    "for t in range(discrete_time_units):\n",
    "    state_vector_copy = np.copy(state_vector)\n",
    "    for i in range(dim):\n",
    "        Sigma = 0\n",
    "        for j in range(dim):\n",
    "            eachsum = weightMatrix[j,i] * state_vector_copy[j,0]\n",
    "            Sigma = Sigma + eachsum\n",
    "        Sigma = Sigma + initial_state_vector[i,0] - state_vector_copy[i,0]\n",
    "        state_vector[i,0] = state_vector[i,0] + epsilon * Sigma\n",
    "    inhibited = inhibit(state_vector, dim, lower_limit, upper_limit)\n",
    "    state_vector = inhibited\n",
    "    \n",
    "        "
   ]
  },
  {
   "cell_type": "code",
   "execution_count": 126,
   "metadata": {},
   "outputs": [
    {
     "data": {
      "image/png": "[encoded data removed]",
      "text/plain": [
       "<Figure size 432x288 with 1 Axes>"
      ]
     },
     "metadata": {
      "needs_background": "light"
     },
     "output_type": "display_data"
    }
   ],
   "source": [
    "# plot initial state\n",
    "y = initial_state_vector\n",
    "x = range(dim)\n",
    "plt.plot(x,y, 'o',color=\"red\", label=\"initial state\")\n",
    "plt.legend(numpoints=1)\n",
    "\n",
    "# plot final state\n",
    "y = state_vector\n",
    "x = range(dim)\n",
    "plt.plot(x,y, '+',color=\"blue\", label=\"final state\")\n",
    "plt.legend(numpoints=1)\n",
    "plt.ylim(-5,55)\n",
    "plt.title(\"Maximum Inhibition 1.0, length constant 10\")\n",
    "plt.show()"
   ]
  },
  {
   "cell_type": "markdown",
   "metadata": {},
   "source": [
    "## Twin Peaks "
   ]
  },
  {
   "cell_type": "code",
   "execution_count": 178,
   "metadata": {},
   "outputs": [],
   "source": [
    "# Initialize initial_state_vector\n",
    "initial_state_vector = np.zeros((dim,1))\n",
    "distMatrix = buildDistMatrix(dim)\n",
    "weightMatrix = np.zeros((dim,dim))\n",
    "\n",
    "max_ = 40\n",
    "min_ = 10\n",
    "stepsaway = 3\n",
    "increasing = 10\n",
    "\n",
    "for i in range(int((halfdim-stepsaway-1)/2)):\n",
    "    initial_state_vector[i,0] = min_\n",
    "for i in range(int((halfdim-stepsaway-1)/2), halfdim-stepsaway):\n",
    "    increasing = increasing + (max_ - min_)/ stepsaway\n",
    "    initial_state_vector[i,0] = increasing\n",
    "initial_state_vector[int(halfdim/2),0] = max_\n",
    "increasing = max_  # PEAK ONE\n",
    "for i in range(int(halfdim/2+1), int(halfdim/2) + stepsaway):\n",
    "    increasing = increasing - ((max_ - min_)/ stepsaway)\n",
    "    initial_state_vector[i,0] = increasing\n",
    "increasing = 10 \n",
    "initial_state_vector[int(halfdim/2)+stepsaway] =increasing\n",
    "initial_state_vector[int(halfdim/2)+stepsaway + 1] =increasing\n",
    "for i in range(int(halfdim/2)+stepsaway+2,halfdim):\n",
    "    increasing = increasing + ((max_ - min_)/ stepsaway)\n",
    "    initial_state_vector[i,0] = increasing\n",
    "initial_state_vector[halfdim,0] = max_ + 10\n",
    "increasing = max_  # PEAK TWO\n",
    "for i in range(halfdim+1, halfdim+1 + stepsaway):\n",
    "    increasing = increasing - ((max_ - min_)/ stepsaway)\n",
    "    initial_state_vector[i,0] = increasing\n",
    "for i in range(halfdim+1 +stepsaway,dim):\n",
    "    initial_state_vector[i,0] = min_\n",
    "\n",
    "state_vector = np.copy(initial_state_vector)"
   ]
  },
  {
   "cell_type": "code",
   "execution_count": 179,
   "metadata": {},
   "outputs": [],
   "source": [
    "# Convert distMatrix into weightMatrix\n",
    "for i in range(dim):\n",
    "    for j in range(dim):\n",
    "        dist = distMatrix[i,j]\n",
    "        weightMatrix[i,j] = -(max_inhibition*np.exp(-(dist/length_constant)))\n",
    "        if i == j:\n",
    "            weightMatrix[i,j] = 0\n",
    "        \n",
    "        \n",
    "for t in range(discrete_time_units):\n",
    "    state_vector_copy = np.copy(state_vector)\n",
    "    for i in range(dim):\n",
    "        Sigma = 0\n",
    "        for j in range(dim):\n",
    "            eachsum = weightMatrix[j,i] * state_vector_copy[j,0]\n",
    "            Sigma = Sigma + eachsum\n",
    "        Sigma = Sigma + initial_state_vector[i,0] - state_vector_copy[i,0]\n",
    "        state_vector[i,0] = state_vector[i,0] + epsilon * Sigma\n",
    "    inhibited = inhibit(state_vector, dim, lower_limit, upper_limit)\n",
    "    state_vector = inhibited\n",
    "    "
   ]
  },
  {
   "cell_type": "code",
   "execution_count": 181,
   "metadata": {},
   "outputs": [
    {
     "data": {
      "image/png": "[encoded data removed]",
      "text/plain": [
       "<Figure size 432x288 with 1 Axes>"
      ]
     },
     "metadata": {
      "needs_background": "light"
     },
     "output_type": "display_data"
    }
   ],
   "source": [
    "# plot initial state\n",
    "y = initial_state_vector\n",
    "x = range(dim)\n",
    "plt.plot(x,y, 'o',color=\"red\", label=\"initial state\")\n",
    "plt.legend(numpoints=1)\n",
    "\n",
    "# plot final state\n",
    "y = state_vector\n",
    "x = range(dim)\n",
    "plt.plot(x,y, '+',color=\"blue\", label=\"final state\")\n",
    "plt.legend(numpoints=1)\n",
    "plt.ylim(-5,55)\n",
    "plt.title(\"Twin Peaks: Maximum Inhibition 1.0, length constant 10\")\n",
    "plt.show()"
   ]
  },
  {
   "cell_type": "markdown",
   "metadata": {},
   "source": [
    "## Twin Peaks, Increased Lateral Inhibition\n"
   ]
  },
  {
   "cell_type": "code",
   "execution_count": 186,
   "metadata": {},
   "outputs": [
    {
     "data": {
      "image/png": "[encoded data removed]",
      "text/plain": [
       "<Figure size 432x288 with 1 Axes>"
      ]
     },
     "metadata": {
      "needs_background": "light"
     },
     "output_type": "display_data"
    }
   ],
   "source": [
    "max_inhibition = 2.0\n",
    "\n",
    "# Initialize initial_state_vector\n",
    "initial_state_vector = np.zeros((dim,1))\n",
    "distMatrix = buildDistMatrix(dim)\n",
    "weightMatrix = np.zeros((dim,dim))\n",
    "\n",
    "max_ = 40\n",
    "min_ = 10\n",
    "stepsaway = 3\n",
    "increasing = 10\n",
    "\n",
    "for i in range(int((halfdim-stepsaway-1)/2)):\n",
    "    initial_state_vector[i,0] = min_\n",
    "for i in range(int((halfdim-stepsaway-1)/2), halfdim-stepsaway):\n",
    "    increasing = increasing + (max_ - min_)/ stepsaway\n",
    "    initial_state_vector[i,0] = increasing\n",
    "initial_state_vector[int(halfdim/2),0] = max_\n",
    "increasing = max_  # PEAK ONE\n",
    "for i in range(int(halfdim/2+1), int(halfdim/2) + stepsaway):\n",
    "    increasing = increasing - ((max_ - min_)/ stepsaway)\n",
    "    initial_state_vector[i,0] = increasing\n",
    "increasing = 10 \n",
    "initial_state_vector[int(halfdim/2)+stepsaway] =increasing\n",
    "initial_state_vector[int(halfdim/2)+stepsaway + 1] =increasing\n",
    "for i in range(int(halfdim/2)+stepsaway+2,halfdim):\n",
    "    increasing = increasing + ((max_ - min_)/ stepsaway)\n",
    "    initial_state_vector[i,0] = increasing\n",
    "initial_state_vector[halfdim,0] = max_ + 10\n",
    "increasing = max_  # PEAK TWO\n",
    "for i in range(halfdim+1, halfdim+1 + stepsaway):\n",
    "    increasing = increasing - ((max_ - min_)/ stepsaway)\n",
    "    initial_state_vector[i,0] = increasing\n",
    "for i in range(halfdim+1 +stepsaway,dim):\n",
    "    initial_state_vector[i,0] = min_\n",
    "\n",
    "state_vector = np.copy(initial_state_vector)\n",
    "\n",
    "# Convert distMatrix into weightMatrix\n",
    "for i in range(dim):\n",
    "    for j in range(dim):\n",
    "        dist = distMatrix[i,j]\n",
    "        weightMatrix[i,j] = -(max_inhibition*np.exp(-(dist/length_constant)))\n",
    "        if i == j:\n",
    "            weightMatrix[i,j] = 0\n",
    "        \n",
    "        \n",
    "for t in range(discrete_time_units):\n",
    "    state_vector_copy = np.copy(state_vector)\n",
    "    for i in range(dim):\n",
    "        Sigma = 0\n",
    "        for j in range(dim):\n",
    "            eachsum = weightMatrix[j,i] * state_vector_copy[j,0]\n",
    "            Sigma = Sigma + eachsum\n",
    "        Sigma = Sigma + initial_state_vector[i,0] - state_vector_copy[i,0]\n",
    "        state_vector[i,0] = state_vector[i,0] + epsilon * Sigma\n",
    "    inhibited = inhibit(state_vector, dim, lower_limit, upper_limit)\n",
    "    state_vector = inhibited\n",
    "    \n",
    "# plot initial state\n",
    "y = initial_state_vector\n",
    "x = range(dim)\n",
    "plt.plot(x,y, 'o',color=\"red\", label=\"initial state\")\n",
    "plt.legend(numpoints=1)\n",
    "\n",
    "# plot final state\n",
    "y = state_vector\n",
    "x = range(dim)\n",
    "plt.plot(x,y, '+',color=\"blue\", label=\"final state\")\n",
    "plt.legend(numpoints=1)\n",
    "plt.ylim(-5,55)\n",
    "plt.title(\"Twin Peaks: Maximum Inhibition 2.0, length constant 10\")\n",
    "plt.show()"
   ]
  }
 ],
 "metadata": {
  "kernelspec": {
   "display_name": "Python 3",
   "language": "python",
   "name": "python3"
  },
  "language_info": {
   "codemirror_mode": {
    "name": "ipython",
    "version": 3
   },
   "file_extension": ".py",
   "mimetype": "text/x-python",
   "name": "python",
   "nbconvert_exporter": "python",
   "pygments_lexer": "ipython3",
   "version": "3.7.4"
  }
 },
 "nbformat": 4,
 "nbformat_minor": 2
}
